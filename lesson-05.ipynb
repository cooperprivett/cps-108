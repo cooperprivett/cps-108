{
 "cells": [
  {
   "cell_type": "markdown",
   "metadata": {},
   "source": [
    "# Lesson 5\n",
    "\n",
    "After several weeks of working with the state animals CSV file,\n",
    "it’s time for us to tackle something bigger.\n",
    "\n",
    "Let’s got to the movies!\n",
    "\n",
    "Run the first cell in the accompanying `downloads.ipynb` notebook\n",
    "to download the large `Data/movie-cast.csv` file\n",
    "that will power our next few lessons.\n",
    "Beware that the download might take a minute or two,\n",
    "so have patience and wait until the notebook tells you `Done!`\n",
    "before proceeding."
   ]
  },
  {
   "cell_type": "code",
   "execution_count": 34,
   "metadata": {
    "tags": []
   },
   "outputs": [
    {
     "output_type": "stream",
     "name": "stdout",
     "text": "\u001b[32m┌─────────────────────┐\n│ Welcome to lesson 5 │\n└─────────────────────┘\u001b[0m"
    }
   ],
   "source": [
    "from course_engine import start_lesson\n",
    "start_lesson(5)\n"
   ]
  },
  {
   "cell_type": "markdown",
   "metadata": {},
   "source": [
    "**Exercise 1.** Here is the incantation you can use to loop across the file:\n",
    "\n",
    "```\n",
    "import csv\n",
    "f = open('Data/movie-cast.csv')\n",
    "for movie, rank, actor, character in csv.reader(f):\n",
    "    pass\n",
    "```\n",
    "\n",
    "Let’s see how big the file is!\n",
    "Print the number of lines in the file.\n"
   ]
  },
  {
   "cell_type": "code",
   "execution_count": 40,
   "metadata": {
    "checks": "",
    "exercise_number": 1,
    "expected": "2080607\n",
    "tags": []
   },
   "outputs": [
    {
     "output_type": "stream",
     "name": "stdout",
     "text": "2080607\n"
    }
   ],
   "source": [
    "# Exercise 1\n",
    "import csv \n",
    "from time import time\n",
    "f = open('Data/movie-cast-new.csv', encoding='utf-8')\n",
    "n = 0\n",
    "for movie, rank, actor, character in csv.reader(f):\n",
    "     n = n + 1\n",
    "print(n)"
   ]
  },
  {
   "cell_type": "markdown",
   "metadata": {},
   "source": [
    "**Exercise 2.** Each line of the file lists a character that a particular actor\n",
    "played in a particular movie.\n",
    "\n",
    "Print out, in alphabetical order, all the actors\n",
    "in “Sleuth (1972)”."
   ]
  },
  {
   "cell_type": "code",
   "execution_count": 11,
   "metadata": {
    "checks": "",
    "exercise_number": 2,
    "expected": "Alec Cawthorne\nEve (III) Channing\nJohn (II) Matthews\nLaurence Olivier\nMichael Caine\nTeddy Martin\n",
    "tags": []
   },
   "outputs": [
    {
     "output_type": "stream",
     "name": "stdout",
     "text": "John (II) Matthews\nTeddy Martin\nLaurence Olivier\nMichael Caine\nAlec Cawthorne\nEve (III) Channing\n+ Siu-Ming Lau\n"
    }
   ],
   "source": [
    "# Exercise 2\n",
    "import csv\n",
    "f = open('Data/movie-cast-new.csv', encoding='utf-8')\n",
    "actors = []\n",
    "for movie, rank, actor, character in csv.reader(f):\n",
    "    \n",
    "    if movie == 'Sleuth (1972)':\n",
    "        print(actor)\n",
    "        actors.append(actor)\n",
    "actors.sort()\n",
    "print('+',actor)\n",
    "\n",
    "#movie.sort()\n",
    "#for actors in actors:\n",
    "    #if movie.startswith('Sleuth'):\n",
    "        #print(actors)\n"
   ]
  },
  {
   "cell_type": "markdown",
   "metadata": {},
   "source": [
    "**Exercise 3.** Which movie has the longest name? Print its name."
   ]
  },
  {
   "cell_type": "code",
   "execution_count": 4,
   "metadata": {
    "checks": "",
    "exercise_number": 3,
    "expected": "Brigitte, Laura, Ursula, Monica, Raquel, Litz, Florinda, Barbara, Claudia, e Sofia le chiamo tutte... anima mia (1974)\n",
    "tags": []
   },
   "outputs": [
    {
     "output_type": "stream",
     "name": "stdout",
     "text": "Brigitte, Laura, Ursula, Monica, Raquel, Litz, Florinda, Barbara, Claudia, e Sofia le chiamo tutte... anima mia (1974)\n"
    }
   ],
   "source": [
    "# Exercise 3\n",
    "import csv\n",
    "winner = ''\n",
    "f = open('Data/movie-cast-new.csv', encoding='utf-8')\n",
    "for movie, rank, actor, character in csv.reader(f):\n",
    "     if len(movie) > len(winner):\n",
    "       winner = movie\n",
    "print(winner)\n"
   ]
  },
  {
   "cell_type": "markdown",
   "metadata": {},
   "source": [
    "**Exercise 4.** Print out, in alphabetical order, the names of all the movies\n",
    "that starred Chadwick Boseman."
   ]
  },
  {
   "cell_type": "code",
   "execution_count": 28,
   "metadata": {
    "checks": "",
    "exercise_number": 4,
    "expected": "42 (2013)\nBlack Panther (2018)\nCaptain America: Civil War (2016)\nDraft Day (2014)\nGet on Up (2014)\nGods of Egypt (2016)\nMessage from the King (2016)\nThe Express (2008)\nThe Kill Hole (2012)\n",
    "tags": []
   },
   "outputs": [
    {
     "output_type": "stream",
     "name": "stdout",
     "text": "Black Panther (2018)\nDraft Day (2014)\nThe Kill Hole (2012)\nMessage from the King (2016)\n42 (2013)\nGods of Egypt (2016)\nCaptain America: Civil War (2016)\nGet on Up (2014)\nThe Express (2008)\ndone\n"
    }
   ],
   "source": [
    "# Exercise 4\n",
    "import csv\n",
    "f = open('Data/movie-cast-new.csv', encoding='utf-8')\n",
    "movies = []\n",
    "for movie, rank, actor, character in csv.reader(f):\n",
    "    if actor == 'Chadwick Boseman': \n",
    "        print(movie)\n",
    "    movies.append(movie)\n",
    "#print(actors)\n",
    "movies.sort()\n",
    "for movies in movie:\n",
    "    if movie.endswith('Chadwick Boseman'):\n",
    "        print(movies)\n",
    "print(\"done\")\n"
   ]
  },
  {
   "cell_type": "markdown",
   "metadata": {},
   "source": [
    "**Exercise 5.** Print out, in alphabetical order, the names of all the characters\n",
    "played by Chadwick Boseman (include duplicates)."
   ]
  },
  {
   "cell_type": "code",
   "execution_count": 15,
   "metadata": {
    "checks": "",
    "exercise_number": 5,
    "expected": "Black Panther/T'Challa\nBlack Panther/T'Challa\nFloyd Little\nJackie Robinson\nJacob King\nJames Brown\nLt. Samuel Drake\nThoth\nVontae Mack\n"
   },
   "outputs": [
    {
     "output_type": "error",
     "ename": "AttributeError",
     "evalue": "'str' object has no attribute 'append'",
     "traceback": [
      "\u001b[1;31m---------------------------------------------------------------------------\u001b[0m",
      "\u001b[1;31mAttributeError\u001b[0m                            Traceback (most recent call last)",
      "\u001b[1;32m<ipython-input-15-9c52bc37d299>\u001b[0m in \u001b[0;36m<module>\u001b[1;34m\u001b[0m\n\u001b[0;32m      6\u001b[0m     \u001b[1;32mif\u001b[0m \u001b[0mactor\u001b[0m \u001b[1;33m==\u001b[0m \u001b[1;34m'Chadwick Boseman'\u001b[0m\u001b[1;33m:\u001b[0m\u001b[1;33m\u001b[0m\u001b[1;33m\u001b[0m\u001b[0m\n\u001b[0;32m      7\u001b[0m         \u001b[0mprint\u001b[0m\u001b[1;33m(\u001b[0m\u001b[0mmovie\u001b[0m\u001b[1;33m)\u001b[0m\u001b[1;33m\u001b[0m\u001b[1;33m\u001b[0m\u001b[0m\n\u001b[1;32m----> 8\u001b[1;33m     \u001b[0mmovies\u001b[0m\u001b[1;33m.\u001b[0m\u001b[0mappend\u001b[0m\u001b[1;33m(\u001b[0m\u001b[0mmovie\u001b[0m\u001b[1;33m)\u001b[0m\u001b[1;33m\u001b[0m\u001b[1;33m\u001b[0m\u001b[0m\n\u001b[0m\u001b[0;32m      9\u001b[0m \u001b[0mcharacters\u001b[0m\u001b[1;33m.\u001b[0m\u001b[0msort\u001b[0m\u001b[1;33m(\u001b[0m\u001b[1;33m)\u001b[0m\u001b[1;33m\u001b[0m\u001b[1;33m\u001b[0m\u001b[0m\n\u001b[0;32m     10\u001b[0m \u001b[1;32mfor\u001b[0m \u001b[0mmovies\u001b[0m \u001b[1;32min\u001b[0m \u001b[0mmovie\u001b[0m\u001b[1;33m:\u001b[0m\u001b[1;33m\u001b[0m\u001b[1;33m\u001b[0m\u001b[0m\n",
      "\u001b[1;31mAttributeError\u001b[0m: 'str' object has no attribute 'append'"
     ]
    }
   ],
   "source": [
    "# Exercise 5\n",
    "import csv\n",
    "f = open('Data/movie-cast-new.csv', encoding='utf-8')\n",
    "character = []\n",
    "for movie, rank, actor, character in csv.reader(f):\n",
    "    if actor == 'Chadwick Boseman': \n",
    "        print(movie)\n",
    "    movies.append(movie)\n",
    "characters.sort()\n",
    "for movies in movie:\n",
    "    if movie.endswith('Chadwick Boseman'):\n",
    "        print(movie)\n",
    "print(\"done\")\n"
   ]
  },
  {
   "cell_type": "markdown",
   "metadata": {},
   "source": [
    "**Exercise 6.** Print out, in alphabetical order, the names of all the movies\n",
    "that have a character named “James Bond”."
   ]
  },
  {
   "cell_type": "code",
   "execution_count": 1,
   "metadata": {
    "checks": "",
    "exercise_number": 6,
    "expected": "10 Endrathukulla (2015)\nA Fool's Paradise (2013)\nA View to a Kill (1985)\nAshakara (1991)\nBhajarangi (2013)\nCasino Royale (2006)\nDeemonid (2012)\nDiamonds Are Forever (1971)\nDie Another Day (2002)\nDr. No (1962)\nEpic Movie (2007)\nFrom Russia with Love (1963)\nGam gai (2002)\nGoldenEye (1995)\nGoldenrock (1999)\nGoldfinger (1964)\nLi san jiao wei zhen di yu men (1977)\nLicence to Kill (1989)\nLive and Let Die (1973)\nMoonraker (1979)\nNever Say Never Again (1983)\nOctopussy (1983)\nOn Her Majesty's Secret Service (1969)\nOutwitted (II) (1917)\nQuantum of Solace (2008)\nReflection of the Soul (2013)\nSkyfall (2012)\nSpectre (2015)\nThe Living Daylights (1987)\nThe Man with the Golden Gun (1974)\nThe Price of Loyalty (2008)\nThe Spy Who Loved Me (1977)\nThe World Is Not Enough (1999)\nThunderball (1965)\nTomorrow Never Dies (1997)\nYou Only Live Twice (1967)\n",
    "tags": []
   },
   "outputs": [],
   "source": [
    "# Exercise 6\n",
    "import csv\n",
    "f = open('Data/movie-cast-new.csv', encoding='utf-8')\n",
    "movies = []\n",
    "for movie, rank, actor, character in csv.reader(f):\n",
    "    if actor == 'James Bond': \n",
    "        print(movie)\n",
    "    movies.append(movie)\n",
    "movies.sort()\n",
    "for movies in movie:\n",
    "    if movie.endswith('James Bond'):\n",
    "        print(movies)\n",
    "        print('done')\n"
   ]
  },
  {
   "cell_type": "markdown",
   "metadata": {},
   "source": [
    "**Exercise 7.** Print out, in alphabetical order, the names of all the characters\n",
    "that Meryl Streep has played."
   ]
  },
  {
   "cell_type": "code",
   "execution_count": 1,
   "metadata": {
    "checks": "",
    "exercise_number": 7,
    "expected": "Altha Carter\nAnna/Sarah Woodruff\nAnne Marie\nAunt Josephine\nBlue Mecha\nBrooke Reynolds\nChief Elder\nClara\nClarissa Vaughan\nCorrine Whitman\nDonna\nDr. Carolyn Ryan\nEleanor Shaw\nEmmeline Pankhurst\nFlorence Foster Jenkins\nFrancesca Johnson\nGail Hartman\nHelen\nJane Adler\nJanine Roth\nJill\nJoanna Kramer\nJoanna Silver\nJulia\nJulia Child\nKaren\nKaren Silkwood\nKaren Traynor\nKate Gulden\nKate Mundy\nKay\nKay Graham\nLee\nLila Ross\nLinda\nLindy\nLisa Metzger\nMargaret Thatcher\nMary Fisher\nMiranda Priestly\nMolly Gilmore\nMrs. Fox\nQueen\nRachel\nRicki\nRoberta Guaspari\nSister Aloysius Beauvier\nSophie\nStage 6\nSusan\nSusan Orlean\nSuzanne Vale\nViolet Weston\nWitch\nYolanda Johnson\n",
    "tags": []
   },
   "outputs": [
    {
     "output_type": "stream",
     "name": "stdout",
     "text": "August: Osage County (2013)\nIronweed (1987)\nMarvin's Room (1996)\nShe-Devil (1989)\nAdaptation. (2002)\nMusic of the Heart (1999)\nThe Seduction of Joe Tynan (1979)\nFalling in Love (1984)\nThe Ant Bully (2006)\nPrime (2005)\nThe Deer Hunter (1978)\nEverybody Rides the Carousel (1975)\nHope Springs (2012)\nThe Giver (2014)\nThe Post (2017)\nThe Manchurian Candidate (2004)\nJulia (1977)\nDark Matter (2007)\nA Series of Unfortunate Events (2004)\nMamma Mia! (2008)\nThe Homesman (2014)\nInto the Woods (2014)\nKramer vs. Kramer (1979)\nThe Iron Lady (2011)\nFantastic Mr. Fox (2009)\nSophie's Choice (1982)\nIt's Complicated (2009)\nPostcards from the Edge (1990)\nArtificial Intelligence: AI (2001)\nHeartburn (1986)\nThe House of the Spirits (1993)\nRendition (2007)\nOut of Africa (1985)\nRicki and the Flash (2015)\nEvening (2007)\nJulie & Julia (2009)\nStill of the Night (1982)\nThe French Lieutenant's Woman (1981)\nThe River Wild (1994)\nPlenty (1985)\nFlorence Foster Jenkins (2016)\nBefore and After (1996)\nSilkwood (1983)\nManhattan (1979)\nLions for Lambs (2007)\nThe Bridges of Madison County (1995)\nThe Hours (2002)\nSuffragette (2015)\nOne True Thing (1998)\nEvil Angels (1988)\nDancing at Lughnasa (1998)\nDoubt (2008)\nDefending Your Life (1991)\nA Prairie Home Companion (2006)\nThe Devil Wears Prada (2006)\ndone\n"
    }
   ],
   "source": [
    "# Exercise 7\n",
    "import csv\n",
    "f = open('Data/movie-cast-new.csv', encoding='utf-8')\n",
    "movies = []\n",
    "for movie, rank, actor, character in csv.reader(f):\n",
    "    if actor == 'Meryl Streep': \n",
    "        print(movie)\n",
    "    movies.append(movie)\n",
    "#print(actors)\n",
    "movies.sort()\n",
    "for movies in movie:\n",
    "    if movie.endswith('Meryl Streep'):\n",
    "        print(movies)\n",
    "print(\"done\")\n",
    "\n"
   ]
  },
  {
   "cell_type": "markdown",
   "metadata": {},
   "source": [
    "**Exercise 8.** Write a program\n",
    "that prints the number of films Judi Dench has been in,\n",
    "then the number of films Meryl Streep has been in,\n",
    "then the name of whichever of those actresses has been in more films."
   ]
  },
  {
   "cell_type": "code",
   "execution_count": 37,
   "metadata": {
    "checks": "",
    "exercise_number": 8,
    "expected": "51\n55\nMeryl Streep\n",
    "tags": []
   },
   "outputs": [
    {
     "output_type": "stream",
     "name": "stdout",
     "text": "51\n55\n['Judi Dench', 'Meryl Streep']\n"
    }
   ],
   "source": [
    "# Exercise 8\n",
    "import csv \n",
    "from time import time\n",
    "f = open('Data/movie-cast-new.csv', encoding='utf-8')\n",
    "n = 0\n",
    "for movie, rank, actor, character in csv.reader(f):\n",
    "    if actor == 'Judi Dench':\n",
    "     n = n + 1\n",
    "print(n)\n",
    "import csv \n",
    "from time import time\n",
    "f = open('Data/movie-cast-new.csv', encoding='utf-8')\n",
    "n = 0\n",
    "for movie, rank, actor, character in csv.reader(f):\n",
    "    if actor == 'Meryl Streep':\n",
    "        n = n + 1\n",
    "print(n)\n",
    "\n",
    "\n"
   ]
  },
  {
   "cell_type": "markdown",
   "metadata": {},
   "source": [
    "**Exercise 9.** Of all of the movies that starred Chadwick Boseman,\n",
    "which had the largest cast (and, thus, the most rows in this CSV file)?\n",
    "Print both the name of the movie and the number of cast members."
   ]
  },
  {
   "cell_type": "code",
   "execution_count": 36,
   "metadata": {
    "checks": "",
    "exercise_number": 9,
    "expected": "42 (2013)\n114\n",
    "tags": []
   },
   "outputs": [
    {
     "output_type": "stream",
     "name": "stdout",
     "text": "Black Panther (2018)\nDraft Day (2014)\nThe Kill Hole (2012)\nMessage from the King (2016)\n42 (2013)\nGods of Egypt (2016)\nCaptain America: Civil War (2016)\nGet on Up (2014)\nThe Express (2008)\n"
    }
   ],
   "source": [
    "# Exercise 9\n",
    "import csv\n",
    "f = open('Data/movie-cast-new.csv', encoding='utf-8')\n",
    "movies = []\n",
    "for movie, rank, actor, character in csv.reader(f):\n",
    "    if actor == 'Chadwick Boseman': \n",
    "        print(movie)\n",
    "    movies.append(movie)\n",
    "movies.sort()\n",
    "for characters in movie:\n",
    "    if movie.endswith('Chadwick Boseman'):\n",
    "\n"
   ]
  }
 ],
 "metadata": {
  "kernelspec": {
   "name": "Python 3.8.5 32-bit",
   "display_name": "Python 3.8.5 32-bit",
   "metadata": {
    "interpreter": {
     "hash": "55be60cf280263d5195d6518e91ce7ddea4b9f37b2ebfc7b398b0bc66be4b367"
    }
   }
  },
  "language_info": {
   "codemirror_mode": {
    "name": "ipython",
    "version": 3
   },
   "file_extension": ".py",
   "mimetype": "text/x-python",
   "name": "python",
   "nbconvert_exporter": "python",
   "pygments_lexer": "ipython3",
   "version": "3.8.5-final"
  }
 },
 "nbformat": 4,
 "nbformat_minor": 4
}