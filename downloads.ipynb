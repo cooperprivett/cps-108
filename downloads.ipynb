{
 "metadata": {
  "language_info": {
   "codemirror_mode": {
    "name": "ipython",
    "version": 3
   },
   "file_extension": ".py",
   "mimetype": "text/x-python",
   "name": "python",
   "nbconvert_exporter": "python",
   "pygments_lexer": "ipython3",
   "version": "3.8.5-final"
  },
  "orig_nbformat": 2,
  "kernelspec": {
   "name": "python38532bit2dbeb906d9c74ce0a3683653e821e4c5",
   "display_name": "Python 3.8.5 32-bit"
  }
 },
 "nbformat": 4,
 "nbformat_minor": 2,
 "cells": [
  {
   "cell_type": "markdown",
   "metadata": {},
   "source": [
    "Welcome!\n",
    "\n",
    "Use this notebook to download the large data files that power some of the lessons in the course. Simply run the cell for the particular file you need!"
   ]
  },
  {
   "cell_type": "code",
   "execution_count": null,
   "metadata": {
    "tags": []
   },
   "outputs": [],
   "source": [
    "import urllib.request\n",
    "url = 'https://rhodesmill.org/tmp/movie-cast.csv'\n",
    "urllib.request.urlretrieve(url, 'Data/movie-cast.csv')\n",
    "print('Done!')"
   ]
  }
 ]
}