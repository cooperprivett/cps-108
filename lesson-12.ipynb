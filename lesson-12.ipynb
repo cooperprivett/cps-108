{
 "cells": [
  {
   "cell_type": "markdown",
   "metadata": {},
   "source": [
    "# Lesson 12\n",
    "\n",
    "You’ve made it to the final lesson!\n",
    "It covers one last topic,\n",
    "that you are likely to encounter repeatedly\n",
    "both in future coursework and after college:\n",
    "the need to examine all the files in a directory.\n",
    "\n",
    "Here are the functions you will need to use\n",
    "to complete the exercises below.\n",
    "They all live in the `os` module,\n",
    "which stands for “operating system” —\n",
    "your “operating system”\n",
    "is the system like macOS, Linux, or Windows that controls your computer:\n",
    "\n",
    "* `os.path.isdir('History')` returns ``True`` if a path is a “directory” file,\n",
    "  that lists other files inside of it.\n",
    "\n",
    "* `os.path.isfile('lesson-01.ipynb')` returns ``True``\n",
    "  if a path is a regular non-directory file that simply holds data.\n",
    "\n",
    "* `os.listdir('History')` returns a list of the files\n",
    "  in the `History` directory.\n",
    "\n",
    "* `os.path.join('History', '2020-11-06-Friday')` pastes a directory\n",
    "  name and a filename into a single string\n",
    "  by adding your operating system’s directory separator.\n",
    "\n",
    "* `os.stat('lesson-01.ipynb').st_size` returns a file’s size in bytes.\n",
    "\n",
    "Remember that to use it you will need to:\n",
    "\n",
    "    import os\n",
    "\n",
    "Here are some basic exercises\n",
    "to get you familiar with these Python language abilities!"
   ]
  },
  {
   "cell_type": "code",
   "execution_count": 1,
   "metadata": {},
   "outputs": [
    {
     "output_type": "stream",
     "name": "stdout",
     "text": [
      "\u001b[32m┌──────────────────────┐\n│ Welcome to lesson 12 │\n└──────────────────────┘\u001b[0m"
     ]
    }
   ],
   "source": [
    "from course_engine import start_lesson\n",
    "start_lesson(12)\n"
   ]
  },
  {
   "cell_type": "markdown",
   "metadata": {},
   "source": [
    "**Exercise 1.** Here is a list of strings that’s named `filenames`:\n",
    "\n",
    "    filenames = 'Data Examples Guides History lesson-01.ipynb lesson-02.ipynb'.split()\n",
    "\n",
    "With that as the first line of your program,\n",
    "write a loop that considers each of the path\n",
    "and prints out whether it’s a file or directory.\n",
    "On each line, print the filename left-justified\n",
    "in a column 20 characters wide.\n",
    "Then print `Directory` next to the name if it’s a directory,\n",
    "or `File` if it’s a plain file."
   ]
  },
  {
   "cell_type": "code",
   "execution_count": 28,
   "metadata": {
    "checks": "",
    "exercise_number": 1,
    "expected": "Data                Directory\nExamples            Directory\nGuides              Directory\nHistory             Directory\nlesson-01.ipynb     File\nlesson-02.ipynb     File\n"
   },
   "outputs": [
    {
     "output_type": "execute_result",
     "data": {
      "text/plain": [
       "<IPython.core.display.HTML object>"
      ],
      "text/html": "<pre><span class=\"ansi-yellow-fg\" style=\"color: #ff2\">Traceback (most recent call last):</span>\n  File &#34;c:\\Users\\Prive\\OneDrive\\Documents\\GitHub\\cps-108\\course_engine.py&#34;, line 201, in run_code\n    compiled = compile(source, name, &#39;exec&#39;)\n  File &#34;Exercise 1&#34;, line 3\n    filenames = Data, Examples Guides History lesson-01.ipynb lesson-02.ipynb.split()\n                               ^\n<span class=\"ansi-yellow-fg\" style=\"color: #ff2\">SyntaxError: invalid syntax</span>\n\n</pre>"
     },
     "metadata": {},
     "execution_count": 28
    }
   ],
   "source": [
    "# Exercise 1\n",
    "import os\n",
    "filenames = Data, Examples Guides History lesson-01.ipynb lesson-02.ipynb.split()\n",
    "print(filenames)\n",
    "for f in filenames:\n",
    "    if os.path.isdir('filenames'):\n",
    "        print(f)"
   ]
  },
  {
   "cell_type": "markdown",
   "metadata": {},
   "source": [
    "**Exercise 2.** List the names of the files in the `Synth` directory in alphabetical order."
   ]
  },
  {
   "cell_type": "code",
   "execution_count": 1,
   "metadata": {
    "checks": "",
    "exercise_number": 2,
    "expected": "fade.py\ngain.py\nrepeat.py\nsquare.py\ntune.py\n"
   },
   "outputs": [
    {
     "output_type": "stream",
     "name": "stdout",
     "text": [
      "fade.py\ngain.py\nrepeat.py\nsquare.py\ntune.py\n"
     ]
    }
   ],
   "source": [
    "# Exercise 2\n",
    "import os\n",
    "files = os.listdir(\"Synth\")\n",
    "files.sort()\n",
    "for i in files:\n",
    "    print(i)\n"
   ]
  },
  {
   "cell_type": "markdown",
   "metadata": {},
   "source": [
    "**Exercise 3.** List the files in the `Guides` directory in alphabetical order.\n",
    "For each file, print its name in a 20 character wide column\n",
    "and then the length of the file in a 6 character wide column."
   ]
  },
  {
   "cell_type": "code",
   "execution_count": null,
   "metadata": {
    "checks": "",
    "exercise_number": 3,
    "expected": "daily-routine         3767\nhow-to-run-a-program  2832\ninstall-on-mac        2851\ninstall-on-windows    2564\nkeyboard-shortcuts     571\n"
   },
   "outputs": [],
   "source": [
    "# Exercise 3\n",
    "\n"
   ]
  },
  {
   "cell_type": "markdown",
   "metadata": {},
   "source": [
    "**Exercise 4.** When a disk or office file share starts to get full,\n",
    "it’s often necessary to find the biggest files\n",
    "to see if they can be compressed or removed.\n",
    "Write a program that figures out the size\n",
    "of the biggest file in the `Guides` directory,\n",
    "then prints out its name on one line\n",
    "and its size on a second line."
   ]
  },
  {
   "cell_type": "code",
   "execution_count": null,
   "metadata": {
    "checks": "",
    "exercise_number": 4,
    "expected": "daily-routine\n3767\n"
   },
   "outputs": [],
   "source": [
    "# Exercise 4\n",
    "\n"
   ]
  },
  {
   "cell_type": "markdown",
   "metadata": {},
   "source": [
    "**Exercise 5.** When figuring out which parts of a filesystem take up the most space,\n",
    "you will often want aggregate numbers showing the total size\n",
    "of all the files in a directory.\n",
    "Write a program that prints the total number of bytes stored\n",
    "by all the files in the `Guides` directory."
   ]
  },
  {
   "cell_type": "code",
   "execution_count": null,
   "metadata": {
    "checks": "",
    "exercise_number": 5,
    "expected": "12585\n"
   },
   "outputs": [],
   "source": [
    "# Exercise 5\n",
    "\n"
   ]
  },
  {
   "cell_type": "markdown",
   "metadata": {},
   "source": [
    "**Exercise 6.** Finally,\n",
    "let’s practice sorting one last time,\n",
    "because when tackling a full disk server\n",
    "you often need to see not just the biggest file\n",
    "but to see all of the files sorted by size,\n",
    "so that the most important ones are at the bottom.\n",
    "List all the files in the `Guides` directory\n",
    "(using the same format as you used several examples ago,\n",
    "with each name in a 20 character wide column\n",
    "and each length in a 6 character wide column)\n",
    "but this time sorted by size,\n",
    "with the smallest file first and the biggest file last."
   ]
  },
  {
   "cell_type": "code",
   "execution_count": null,
   "metadata": {
    "checks": "",
    "exercise_number": 6,
    "expected": "keyboard-shortcuts     571\ninstall-on-windows    2564\nhow-to-run-a-program  2832\ninstall-on-mac        2851\ndaily-routine         3767\n"
   },
   "outputs": [],
   "source": [
    "# Exercise 6\n",
    "\n"
   ]
  }
 ],
 "metadata": {
  "kernelspec": {
   "name": "python3",
   "display_name": "Python 3.8.5 32-bit",
   "metadata": {
    "interpreter": {
     "hash": "55be60cf280263d5195d6518e91ce7ddea4b9f37b2ebfc7b398b0bc66be4b367"
    }
   }
  },
  "language_info": {
   "codemirror_mode": {
    "name": "ipython",
    "version": 3
   },
   "file_extension": ".py",
   "mimetype": "text/x-python",
   "name": "python",
   "nbconvert_exporter": "python",
   "pygments_lexer": "ipython3",
   "version": "3.8.5-final"
  }
 },
 "nbformat": 4,
 "nbformat_minor": 4
}