{
 "cells": [
  {
   "cell_type": "markdown",
   "metadata": {},
   "source": [
    "# Lesson 8\n",
    "\n",
    "Let’s practice writing programs\n",
    "where you build “lists of lists”\n",
    "that let you sort items\n",
    "by a number that you attach to each item."
   ]
  },
  {
   "cell_type": "code",
   "execution_count": 1,
   "metadata": {},
   "outputs": [
    {
     "output_type": "stream",
     "name": "stdout",
     "text": [
      "\u001b[32m┌─────────────────────┐\n│ Welcome to lesson 8 │\n└─────────────────────┘\u001b[0m"
     ]
    }
   ],
   "source": [
    "from course_engine import start_lesson\n",
    "start_lesson(8)\n"
   ]
  },
  {
   "cell_type": "markdown",
   "metadata": {},
   "source": [
    "**Exercise 1.** Print out all the state animals,\n",
    "in order from least popular to most popular.\n",
    "Within each level of popularity, use alphabetical order.\n",
    "For each animal,\n",
    "print a line giving (a) the number of states that chose the animal\n",
    "then (b) the name of the animal itself."
   ]
  },
  {
   "cell_type": "code",
   "execution_count": null,
   "metadata": {
    "checks": "",
    "exercise_number": 1,
    "expected": "1 American badger\n1 Bowhead whale\n1 Coyote\n1 Florida panther\n1 Gray fox\n1 Harbor seal\n1 Hawaiian monk seal\n1 Missouri mule\n1 Moose\n1 Nine-banded armadillo\n1 Orca\n1 Raccoon\n1 Randall Lineback\n1 Right whale\n1 Ring-tailed cat\n1 Rocky Mountain elk\n1 Sperm whale\n1 Virginia big-eared bat\n2 Beaver\n2 Bighorn sheep\n2 Gray squirrel\n2 Grizzly bear\n3 Bison\n4 Black bear\n10 White-tailed deer\n"
   },
   "outputs": [],
   "source": [
    "# Exercise 1\n"
   ]
  },
  {
   "cell_type": "markdown",
   "metadata": {},
   "source": [
    "**Exercise 2.** Write a program\n",
    "that prints in alphabetical order\n",
    "all the least popular state animals —\n",
    "the ones that have been each chosen by only one state."
   ]
  },
  {
   "cell_type": "code",
   "execution_count": null,
   "metadata": {
    "checks": "",
    "exercise_number": 2,
    "expected": "American badger\nBowhead whale\nCoyote\nFlorida panther\nGray fox\nHarbor seal\nHawaiian monk seal\nMissouri mule\nMoose\nNine-banded armadillo\nOrca\nRaccoon\nRandall Lineback\nRight whale\nRing-tailed cat\nRocky Mountain elk\nSperm whale\nVirginia big-eared bat\n"
   },
   "outputs": [],
   "source": [
    "# Exercise 2\n",
    "\n"
   ]
  },
  {
   "cell_type": "markdown",
   "metadata": {},
   "source": [
    "**Exercise 3.** Print the state animals in order\n",
    "by the length of their name,\n",
    "with the shortest animal name first and the longest last.\n",
    "(For animal names of the same length,\n",
    "put them in alphabetical order.)"
   ]
  },
  {
   "cell_type": "code",
   "execution_count": 15,
   "metadata": {
    "checks": "",
    "exercise_number": 3,
    "expected": "Orca\nBison\nMoose\nBeaver\nCoyote\nRaccoon\nGray fox\nBlack bear\nHarbor seal\nRight whale\nSperm whale\nGrizzly bear\nBighorn sheep\nBowhead whale\nGray squirrel\nMissouri mule\nAmerican badger\nFlorida panther\nRing-tailed cat\nRandall Lineback\nWhite-tailed deer\nHawaiian monk seal\nRocky Mountain elk\nNine-banded armadillo\nVirginia big-eared bat\n"
   },
   "outputs": [
    {
     "output_type": "error",
     "ename": "NameError",
     "evalue": "name 'animal' is not defined",
     "traceback": [
      "\u001b[1;31m---------------------------------------------------------------------------\u001b[0m",
      "\u001b[1;31mNameError\u001b[0m                                 Traceback (most recent call last)",
      "\u001b[1;32m<ipython-input-15-9d6a5af662c1>\u001b[0m in \u001b[0;36m<module>\u001b[1;34m\u001b[0m\n\u001b[0;32m      5\u001b[0m \u001b[1;32mfor\u001b[0m \u001b[0mrow\u001b[0m \u001b[1;32min\u001b[0m \u001b[0mcsv\u001b[0m\u001b[1;33m.\u001b[0m\u001b[0mreader\u001b[0m\u001b[1;33m(\u001b[0m\u001b[0mf\u001b[0m\u001b[1;33m)\u001b[0m\u001b[1;33m:\u001b[0m\u001b[1;33m\u001b[0m\u001b[1;33m\u001b[0m\u001b[0m\n\u001b[0;32m      6\u001b[0m     \u001b[0mstate\u001b[0m\u001b[1;33m,\u001b[0m \u001b[0mannimal\u001b[0m \u001b[1;33m=\u001b[0m \u001b[0mrow\u001b[0m\u001b[1;33m\u001b[0m\u001b[1;33m\u001b[0m\u001b[0m\n\u001b[1;32m----> 7\u001b[1;33m     \u001b[0mlength\u001b[0m \u001b[1;33m=\u001b[0m \u001b[0mlen\u001b[0m\u001b[1;33m(\u001b[0m\u001b[0manimal\u001b[0m\u001b[1;33m)\u001b[0m\u001b[1;33m\u001b[0m\u001b[1;33m\u001b[0m\u001b[0m\n\u001b[0m\u001b[0;32m      8\u001b[0m     \u001b[0ms\u001b[0m \u001b[1;33m=\u001b[0m \u001b[1;34mf'{length:2} {animal}'\u001b[0m\u001b[1;33m\u001b[0m\u001b[1;33m\u001b[0m\u001b[0m\n\u001b[0;32m      9\u001b[0m     \u001b[0manimals\u001b[0m\u001b[1;33m.\u001b[0m\u001b[0mappend\u001b[0m\u001b[1;33m(\u001b[0m\u001b[0ms\u001b[0m\u001b[1;33m)\u001b[0m\u001b[1;33m\u001b[0m\u001b[1;33m\u001b[0m\u001b[0m\n",
      "\u001b[1;31mNameError\u001b[0m: name 'animal' is not defined"
     ]
    }
   ],
   "source": [
    "# Exercise 3\n",
    "import csv\n",
    "f = open('Data/state-animals.csv')\n",
    "animals = []\n",
    "for row in csv.reader(f):\n",
    "    state, annimal = row \n",
    "    length = len(animal)\n",
    "    s = f'{length:2} {animal}'\n",
    "    animals.append(s)\n",
    "animals.sort()\n",
    "for s in animals:\n",
    "    animal = s[3:]\n",
    "    print(animal)\n"
   ]
  },
  {
   "cell_type": "markdown",
   "metadata": {},
   "source": [
    "**Exercise 4.** Print the 10 states in the state animals file\n",
    "that have the longest names,\n",
    "with the longest state name last.\n",
    "When there are ties, list them in alphabetical order."
   ]
  },
  {
   "cell_type": "code",
   "execution_count": null,
   "metadata": {
    "checks": "",
    "exercise_number": 4,
    "expected": "Connecticut\nMississippi\nPennsylvania\nRhode Island\nSouth Dakota\nMassachusetts\nNew Hampshire\nWest Virginia\nNorth Carolina\nSouth Carolina\n"
   },
   "outputs": [],
   "source": [
    "# Exercise 4\n",
    "\n"
   ]
  },
  {
   "cell_type": "markdown",
   "metadata": {},
   "source": [
    "**Exercise 5.** Find the 5 animals in the state animals file\n",
    "that have the longest names.\n",
    "Print them in order with the longest last,\n",
    "with each line giving the animal’s state, a dash, and the animal."
   ]
  },
  {
   "cell_type": "code",
   "execution_count": null,
   "metadata": {
    "checks": "",
    "exercise_number": 5,
    "expected": "South Carolina - White-tailed deer\nHawaii - Hawaiian monk seal\nUtah - Rocky Mountain elk\nTexas - Nine-banded armadillo\nVirginia - Virginia big-eared bat\n"
   },
   "outputs": [],
   "source": [
    "# Exercise 5\n",
    "\n"
   ]
  }
 ],
 "metadata": {
  "kernelspec": {
   "name": "Python 3.8.5 32-bit",
   "display_name": "Python 3.8.5 32-bit",
   "metadata": {
    "interpreter": {
     "hash": "55be60cf280263d5195d6518e91ce7ddea4b9f37b2ebfc7b398b0bc66be4b367"
    }
   }
  },
  "language_info": {
   "codemirror_mode": {
    "name": "ipython",
    "version": 3
   },
   "file_extension": ".py",
   "mimetype": "text/x-python",
   "name": "python",
   "nbconvert_exporter": "python",
   "pygments_lexer": "ipython3",
   "version": "3.8.5-final"
  }
 },
 "nbformat": 4,
 "nbformat_minor": 4
}