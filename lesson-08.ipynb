{
 "cells": [
  {
   "cell_type": "markdown",
   "metadata": {},
   "source": [
    "# Lesson 8\n",
    "\n",
    "Let’s practice writing programs\n",
    "where you build “lists of lists”\n",
    "that let you sort items\n",
    "by a number that you attach to each item."
   ]
  },
  {
   "cell_type": "code",
   "execution_count": 1,
   "metadata": {},
   "outputs": [
    {
     "output_type": "stream",
     "name": "stdout",
     "text": [
      "\u001b[32m┌─────────────────────┐\n│ Welcome to lesson 8 │\n└─────────────────────┘\u001b[0m"
     ]
    }
   ],
   "source": [
    "from course_engine import start_lesson\n",
    "start_lesson(8)\n"
   ]
  },
  {
   "cell_type": "markdown",
   "metadata": {},
   "source": [
    "**Exercise 1.** Print out all the state animals,\n",
    "in order from least popular to most popular.\n",
    "Within each level of popularity, use alphabetical order.\n",
    "For each animal,\n",
    "print a line giving (a) the number of states that chose the animal\n",
    "then (b) the name of the animal itself."
   ]
  },
  {
   "cell_type": "code",
   "execution_count": 16,
   "metadata": {
    "checks": "",
    "exercise_number": 1,
    "expected": "1 American badger\n1 Bowhead whale\n1 Coyote\n1 Florida panther\n1 Gray fox\n1 Harbor seal\n1 Hawaiian monk seal\n1 Missouri mule\n1 Moose\n1 Nine-banded armadillo\n1 Orca\n1 Raccoon\n1 Randall Lineback\n1 Right whale\n1 Ring-tailed cat\n1 Rocky Mountain elk\n1 Sperm whale\n1 Virginia big-eared bat\n2 Beaver\n2 Bighorn sheep\n2 Gray squirrel\n2 Grizzly bear\n3 Bison\n4 Black bear\n10 White-tailed deer\n"
   },
   "outputs": [
    {
     "output_type": "stream",
     "name": "stdout",
     "text": [
      "1 American badger\n1 Bowhead whale\n1 Coyote\n1 Florida panther\n1 Gray fox\n1 Harbor seal\n1 Hawaiian monk seal\n1 Missouri mule\n1 Moose\n1 Nine-banded armadillo\n1 Orca\n1 Raccoon\n1 Randall Lineback\n1 Right whale\n1 Ring-tailed cat\n1 Rocky Mountain elk\n1 Sperm whale\n1 Virginia big-eared bat\n2 Beaver\n2 Bighorn sheep\n2 Gray squirrel\n2 Grizzly bear\n3 Bison\n4 Black bear\n10 White-tailed deer\n"
     ]
    }
   ],
   "source": [
    "# Exercise 1\n",
    "import csv\n",
    "c = {}\n",
    "file = open ('Data/state-animals.csv')\n",
    "for state, animal in csv.reader(open('Data/state-animals.csv')):\n",
    "    c[animal] = c.get(animal, 0) + 1\n",
    "#print(c)\n",
    "items = [] \n",
    "for animal, count in c.items():\n",
    "    items.append([count, animal])\n",
    "items.sort()\n",
    "for count, animal in items[-25:]:\n",
    "    print(count, animal)"
   ]
  },
  {
   "cell_type": "markdown",
   "metadata": {},
   "source": [
    "**Exercise 2.** Write a program\n",
    "that prints in alphabetical order\n",
    "all the least popular state animals —\n",
    "the ones that have been each chosen by only one state."
   ]
  },
  {
   "cell_type": "code",
   "execution_count": 2,
   "metadata": {
    "checks": "",
    "exercise_number": 2,
    "expected": "American badger\nBowhead whale\nCoyote\nFlorida panther\nGray fox\nHarbor seal\nHawaiian monk seal\nMissouri mule\nMoose\nNine-banded armadillo\nOrca\nRaccoon\nRandall Lineback\nRight whale\nRing-tailed cat\nRocky Mountain elk\nSperm whale\nVirginia big-eared bat\n"
   },
   "outputs": [
    {
     "output_type": "execute_result",
     "data": {
      "text/plain": [
       "<IPython.core.display.HTML object>"
      ],
      "text/html": "<pre>American badger\nBowhead whale\nCoyote\nFlorida panther\nGray fox\nHarbor seal\nHawaiian monk seal\nMissouri mule\nMoose\nNine-banded armadillo\nOrca\nRaccoon\nRandall Lineback\nRight whale\nRing-tailed cat\nRocky Mountain elk\nSperm whale\nVirginia big-eared bat\n\n<span class=\"ansi-green-fg\" style=\"color: #4f4\">┌────────────────────────────────────────────┐\n│ </span><span class=\"ansi-green-fg\" style=\"color: #4f4\">✔ Your output looks correct</span><span class=\"ansi-green-fg\" style=\"color: #4f4\">                │\n│                                            │\n│ Good job! You have completed this exercise │\n└────────────────────────────────────────────┘</span>\n</pre>"
     },
     "metadata": {},
     "execution_count": 2
    }
   ],
   "source": [
    "# Exercise 2\n",
    "import csv\n",
    "c = {}\n",
    "file = open ('Data/state-animals.csv')\n",
    "for state, animal in csv.reader(open('Data/state-animals.csv')):\n",
    "    c[animal] = c.get(animal, 0) + 1\n",
    "#print(c)\n",
    "items = [] \n",
    "for animal, count in c.items():\n",
    "    items.append([count, animal])\n",
    "items.sort()\n",
    "for count, animal in items[-25:]:\n",
    "    if count == 1:\n",
    "        print(animal)\n"
   ]
  },
  {
   "cell_type": "markdown",
   "metadata": {},
   "source": [
    "**Exercise 3.** Print the state animals in order\n",
    "by the length of their name,\n",
    "with the shortest animal name first and the longest last.\n",
    "(For animal names of the same length,\n",
    "put them in alphabetical order.)"
   ]
  },
  {
   "cell_type": "code",
   "execution_count": 17,
   "metadata": {
    "checks": "",
    "exercise_number": 3,
    "expected": "Orca\nBison\nMoose\nBeaver\nCoyote\nRaccoon\nGray fox\nBlack bear\nHarbor seal\nRight whale\nSperm whale\nGrizzly bear\nBighorn sheep\nBowhead whale\nGray squirrel\nMissouri mule\nAmerican badger\nFlorida panther\nRing-tailed cat\nRandall Lineback\nWhite-tailed deer\nHawaiian monk seal\nRocky Mountain elk\nNine-banded armadillo\nVirginia big-eared bat\n"
   },
   "outputs": [
    {
     "output_type": "execute_result",
     "data": {
      "text/plain": [
       "<IPython.core.display.HTML object>"
      ],
      "text/html": "<pre>Orca\nBison\nMoose\nBeaver\nCoyote\nRaccoon\nGray fox\nBlack bear\nHarbor seal\nRight whale\nSperm whale\nGrizzly bear\nBighorn sheep\nBowhead whale\nGray squirrel\nMissouri mule\nAmerican badger\nFlorida panther\nRing-tailed cat\nRandall Lineback\nWhite-tailed deer\nHawaiian monk seal\nRocky Mountain elk\nNine-banded armadillo\nVirginia big-eared bat\n\n<span class=\"ansi-green-fg\" style=\"color: #4f4\">┌────────────────────────────────────────────┐\n│ </span><span class=\"ansi-green-fg\" style=\"color: #4f4\">✔ Your output looks correct</span><span class=\"ansi-green-fg\" style=\"color: #4f4\">                │\n│                                            │\n│ Good job! You have completed this exercise │\n└────────────────────────────────────────────┘</span>\n</pre>"
     },
     "metadata": {},
     "execution_count": 17
    }
   ],
   "source": [
    "# Exercise 3\n",
    "import csv\n",
    "file = open ('Data/state-animals.csv')\n",
    "animals = []\n",
    "for row in csv.reader(file):\n",
    "    state, animal = row\n",
    "    c = f'{len(animal):2} {animal}'\n",
    "    animals.append(c)\n",
    "animals.sort()\n",
    "animals = list(dict.fromkeys(animals))\n",
    "for s in animals:\n",
    "    animal =s[3:]\n",
    "    print(animal)\n"
   ]
  },
  {
   "cell_type": "markdown",
   "metadata": {},
   "source": [
    "**Exercise 4.** Print the 10 states in the state animals file\n",
    "that have the longest names,\n",
    "with the longest state name last.\n",
    "When there are ties, list them in alphabetical order."
   ]
  },
  {
   "cell_type": "code",
   "execution_count": 23,
   "metadata": {
    "checks": "",
    "exercise_number": 4,
    "expected": "Connecticut\nMississippi\nPennsylvania\nRhode Island\nSouth Dakota\nMassachusetts\nNew Hampshire\nWest Virginia\nNorth Carolina\nSouth Carolina\n"
   },
   "outputs": [
    {
     "output_type": "execute_result",
     "data": {
      "text/plain": [
       "<IPython.core.display.HTML object>"
      ],
      "text/html": "<pre><span class=\"ansi-red-bg ansi-bold\" style=\"background-color: #800;font-weight: bold\">Ohio\nUtah\nMaine\nTexas\nAlaska\nHawaii\nKansas\nNevada\nOregon\nAlabama\nArizona\nFlorida\nGeorgia\nMontana\nVermont\nWyoming\nArkansas\nColorado\nDelaware\nIllinois\nKentucky\nMichigan\nMissouri\nNebraska\nNew York\nOklahoma\nVirginia\nLouisiana\nTennessee\nWisconsin\nCalifornia\nNew Mexico\nWashington\n</span>Connecticut\nMississippi\nPennsylvania\nRhode Island\nSouth Dakota\nMassachusetts\nNew Hampshire\nWest Virginia\nNorth Carolina\nSouth Carolina\n\n<span class=\"ansi-red-fg\" style=\"color: red\">┌──────────────────────────────────┐\n│ Your output does not quite match │\n│ what the exercise is expecting:  │\n└──────────────────────────────────┘</span>\nConnecticut\nMississippi\nPennsylvania\nRhode Island\nSouth Dakota\nMassachusetts\nNew Hampshire\nWest Virginia\nNorth Carolina\nSouth Carolina\n\n</pre>"
     },
     "metadata": {},
     "execution_count": 23
    }
   ],
   "source": [
    "# Exercise 4\n",
    "import csv\n",
    "file = open ('Data/state-animals.csv')\n",
    "states = []\n",
    "for row in csv.reader(file):\n",
    "    state, animal = row\n",
    "    c = f'{len(state):2} {state}'\n",
    "    states.append(c)\n",
    "states.sort()\n",
    "states = list(dict.fromkeys(states))\n",
    "for s in states:\n",
    "    state =s[3:]\n",
    "    print(state)\n"
   ]
  },
  {
   "cell_type": "markdown",
   "metadata": {},
   "source": [
    "**Exercise 5.** Find the 5 animals in the state animals file\n",
    "that have the longest names.\n",
    "Print them in order with the longest last,\n",
    "with each line giving the animal’s state, a dash, and the animal."
   ]
  },
  {
   "cell_type": "code",
   "execution_count": 28,
   "metadata": {
    "checks": "",
    "exercise_number": 5,
    "expected": "South Carolina - White-tailed deer\nHawaii - Hawaiian monk seal\nUtah - Rocky Mountain elk\nTexas - Nine-banded armadillo\nVirginia - Virginia big-eared bat\n"
   },
   "outputs": [
    {
     "output_type": "execute_result",
     "data": {
      "text/plain": [
       "<IPython.core.display.HTML object>"
      ],
      "text/html": "<pre><span class=\"ansi-red-bg ansi-bold\" style=\"background-color: #800;font-weight: bold\">- Orca\n- Bis</span>o<span class=\"ansi-red-bg ansi-bold\" style=\"background-color: #800;font-weight: bold\">n\n- Moose\n- Beaver\n-</span> C<span class=\"ansi-red-bg ansi-bold\" style=\"background-color: #800;font-weight: bold\">oyote\n- Raccoon\n- Gray fox\n- Black be</span>ar<span class=\"ansi-red-bg ansi-bold\" style=\"background-color: #800;font-weight: bold\">\n- Harb</span>o<span class=\"ansi-red-bg ansi-bold\" style=\"background-color: #800;font-weight: bold\">r sea</span>l<span class=\"ansi-red-bg ansi-bold\" style=\"background-color: #800;font-weight: bold\">\n- R</span>i<span class=\"ansi-red-bg ansi-bold\" style=\"background-color: #800;font-weight: bold\">ght whale\n- Sperm whale\n- Grizzly bear\n- Bighor</span>n<span class=\"ansi-red-bg ansi-bold\" style=\"background-color: #800;font-weight: bold\"> sheep\n- Bowhead whale\n- Gray squirrel\n- Missouri mule\n- American badger\n- Florid</span>a <span class=\"ansi-red-bg ansi-bold\" style=\"background-color: #800;font-weight: bold\">panther\n- Ring-tailed cat\n- Randall Lineback\n</span>- White-tailed deer\n- Hawaiian monk seal\n- Rocky Mountain elk\n- Nine-banded armadillo\n- Virginia big-eared bat\n\n<span class=\"ansi-red-fg\" style=\"color: red\">┌──────────────────────────────────┐\n│ Your output does not quite match │\n│ what the exercise is expecting:  │\n└──────────────────────────────────┘</span>\n<span class=\"ansi-green-bg ansi-bold\" style=\"background-color: #080;font-weight: bold\">S</span>o<span class=\"ansi-green-bg ansi-bold\" style=\"background-color: #080;font-weight: bold\">uth</span> Carolina - White-tailed deer\n<span class=\"ansi-green-bg ansi-bold\" style=\"background-color: #080;font-weight: bold\">Hawaii </span>- Hawaiian monk seal\n<span class=\"ansi-green-bg ansi-bold\" style=\"background-color: #080;font-weight: bold\">Utah </span>- Rocky Mountain elk\n<span class=\"ansi-green-bg ansi-bold\" style=\"background-color: #080;font-weight: bold\">Texas </span>- Nine-banded armadillo\n<span class=\"ansi-green-bg ansi-bold\" style=\"background-color: #080;font-weight: bold\">Virginia </span>- Virginia big-eared bat\n\n</pre>"
     },
     "metadata": {},
     "execution_count": 28
    }
   ],
   "source": [
    "# Exercise 5\n",
    "import csv\n",
    "file = open ('Data/state-animals.csv')\n",
    "animals = []\n",
    "for row in csv.reader(file):\n",
    "    state, animal = row\n",
    "    c = f'{len(animal):2} {animal}'\n",
    "    animals.append(c)\n",
    "animals.sort()\n",
    "animals = list(dict.fromkeys(animals))\n",
    "for s in animals:\n",
    "    animal =s[3:]\n",
    "    print(\"-\",animal)\n"
   ]
  },
  {
   "cell_type": "code",
   "execution_count": null,
   "metadata": {},
   "outputs": [],
   "source": []
  }
 ],
 "metadata": {
  "kernelspec": {
   "name": "python3",
   "display_name": "Python 3.8.5 32-bit",
   "metadata": {
    "interpreter": {
     "hash": "55be60cf280263d5195d6518e91ce7ddea4b9f37b2ebfc7b398b0bc66be4b367"
    }
   }
  },
  "language_info": {
   "codemirror_mode": {
    "name": "ipython",
    "version": 3
   },
   "file_extension": ".py",
   "mimetype": "text/x-python",
   "name": "python",
   "nbconvert_exporter": "python",
   "pygments_lexer": "ipython3",
   "version": "3.8.5-final"
  }
 },
 "nbformat": 4,
 "nbformat_minor": 4
}