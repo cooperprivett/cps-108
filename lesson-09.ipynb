{
 "cells": [
  {
   "cell_type": "markdown",
   "metadata": {},
   "source": [
    "# Lesson 9\n",
    "\n",
    "Let’s practice the basic skills necessary for screen scraping!"
   ]
  },
  {
   "cell_type": "code",
   "execution_count": 2,
   "metadata": {},
   "outputs": [
    {
     "output_type": "stream",
     "name": "stdout",
     "text": [
      "\u001b[32m┌─────────────────────┐\n│ Welcome to lesson 9 │\n└─────────────────────┘\u001b[0m"
     ]
    }
   ],
   "source": [
    "from course_engine import start_lesson\n",
    "start_lesson(9)\n"
   ]
  },
  {
   "cell_type": "markdown",
   "metadata": {},
   "source": [
    "**Exercise 1.** In your `Data/` directory is an excerpt\n",
    "from the 2020–2021 Bluffton University golf schedule web page.\n",
    "If you want to see the original page, it lives at:\n",
    "\n",
    "<https://blufftonbeavers.com/sports/mgolf/2020-21/schedule>\n",
    "\n",
    "Here is a sample script that visits every line in the file,\n",
    "removes any extra whitespace at the ends,\n",
    "and prints the “repr” of every line:\n",
    "\n",
    "    f = open('Data/golf-excerpt.html')\n",
    "    for line in f:\n",
    "        line = line.strip()\n",
    "        print(repr(line))\n",
    "\n",
    "Let’s start with something simple\n",
    "before diving into string parsing.\n",
    "By modifying this example,\n",
    "create a short program\n",
    "that prints out the number of lines in `Data/golf-excerpt.html`."
   ]
  },
  {
   "cell_type": "code",
   "execution_count": 9,
   "metadata": {
    "checks": "",
    "exercise_number": 1,
    "expected": "274\n"
   },
   "outputs": [
    {
     "output_type": "stream",
     "name": "stdout",
     "text": [
      "274\n"
     ]
    }
   ],
   "source": [
    "# Exercise 1\n",
    "n=0\n",
    "f = open('Data/golf-excerpt.html')\n",
    "for line in f:\n",
    "     line = line.strip()\n",
    "     n = n +1\n",
    "print(n)"
   ]
  },
  {
   "cell_type": "markdown",
   "metadata": {},
   "source": [
    "**Exercise 2.** Here is a new operator you might not have seen before:\n",
    "you can use “in” to check\n",
    "whether a little string is contained somewhere inside a big string.\n",
    "\n",
    "    for animal in 'Bison', 'Orca', 'Missouri mule':\n",
    "        if 'so' in animal:\n",
    "            print(animal)\n",
    "\n",
    "This prints out both `Bison` and `Missouri mule`\n",
    "because they both have the adjacent letters `so` inside,\n",
    "but skips and does not print `Orca`.\n",
    "\n",
    "Using this new operator,\n",
    "print out all of the lines in `Data/golf-excerpt.html`\n",
    "that have the string `e_teamname` inside."
   ]
  },
  {
   "cell_type": "code",
   "execution_count": 10,
   "metadata": {
    "checks": "",
    "exercise_number": 2,
    "expected": "<span class=\"e_teamname\" title=\"Tiffin University at Mohawk CC\">Tiffin University at Mohawk CC</span>\n<span class=\"e_teamname\" title=\"Lourdes Fall Invitatonal at Legacy GC\">Lourdes Fall Invitatonal at Legacy GC</span>\n<span class=\"e_teamname\" title=\"Irish Hills Intercollegiate at The Grande GC (Jackson, MI)\">Irish Hills Intercollegiate at The Grande GC (Jackson, MI)</span>\n<span class=\"e_teamname e_home\" title=\"Beaver Fall Classic at Bluffton GC\">Beaver Fall Classic at Bluffton GC</span>\n<span class=\"e_teamname e_home\" title=\"Beaver Fall Classic at Hidden Creek GC\">Beaver Fall Classic at Hidden Creek GC</span>\n<span class=\"e_teamname\" title=\"Olivet College Invitational #1 at Forest Akers West (East Lansing, MI)\">Olivet College Invitational #1 at Forest Akers West (East Lansing, MI)</span>\n<span class=\"e_teamname\" title=\"Trine University at Zollner GC\">Trine University at Zollner GC</span>\n<span class=\"e_teamname\" title=\"Kyle Ryman Memorial at Mohawk CC\">Kyle Ryman Memorial at Mohawk CC</span>\n<span class=\"e_teamname\" title=\"Kyle Ryman Memorial at Mohawk CC\">Kyle Ryman Memorial at Mohawk CC</span>\n<span class=\"e_teamname\" title=\"Lourdes Fall Invitatonal at Sylvania CC\">Lourdes Fall Invitatonal at Sylvania CC</span>\n"
   },
   "outputs": [
    {
     "output_type": "stream",
     "name": "stdout",
     "text": [
      "<span class=\"e_teamname\" title=\"Tiffin University at Mohawk CC\">Tiffin University at Mohawk CC</span>\n<span class=\"e_teamname\" title=\"Lourdes Fall Invitatonal at Legacy GC\">Lourdes Fall Invitatonal at Legacy GC</span>\n<span class=\"e_teamname\" title=\"Irish Hills Intercollegiate at The Grande GC (Jackson, MI)\">Irish Hills Intercollegiate at The Grande GC (Jackson, MI)</span>\n<span class=\"e_teamname e_home\" title=\"Beaver Fall Classic at Bluffton GC\">Beaver Fall Classic at Bluffton GC</span>\n<span class=\"e_teamname e_home\" title=\"Beaver Fall Classic at Hidden Creek GC\">Beaver Fall Classic at Hidden Creek GC</span>\n<span class=\"e_teamname\" title=\"Olivet College Invitational #1 at Forest Akers West (East Lansing, MI)\">Olivet College Invitational #1 at Forest Akers West (East Lansing, MI)</span>\n<span class=\"e_teamname\" title=\"Trine University at Zollner GC\">Trine University at Zollner GC</span>\n<span class=\"e_teamname\" title=\"Kyle Ryman Memorial at Mohawk CC\">Kyle Ryman Memorial at Mohawk CC</span>\n<span class=\"e_teamname\" title=\"Kyle Ryman Memorial at Mohawk CC\">Kyle Ryman Memorial at Mohawk CC</span>\n<span class=\"e_teamname\" title=\"Lourdes Fall Invitatonal at Sylvania CC\">Lourdes Fall Invitatonal at Sylvania CC</span>\n"
     ]
    }
   ],
   "source": [
    "# Exercise 2\n",
    "f = open('Data/golf-excerpt.html')\n",
    "for line in f:\n",
    "    if 'e_teamname' in line:\n",
    "        print(line, end = '')\n"
   ]
  },
  {
   "cell_type": "markdown",
   "metadata": {},
   "source": [
    "**Exercise 3.** Print out a count of how many lines in `Data/golf-excerpt.html`\n",
    "have the string `e_teamname` inside."
   ]
  },
  {
   "cell_type": "code",
   "execution_count": 11,
   "metadata": {
    "checks": "",
    "exercise_number": 3,
    "expected": "10\n"
   },
   "outputs": [
    {
     "output_type": "stream",
     "name": "stdout",
     "text": [
      "10\n"
     ]
    }
   ],
   "source": [
    "# Exercise 3\n",
    "n = 0\n",
    "f = open('Data/golf-excerpt.html')\n",
    "for line in f:\n",
    "    if 'e_teamname' in line:\n",
    "        n = n + 1\n",
    "print(n)"
   ]
  },
  {
   "cell_type": "markdown",
   "metadata": {},
   "source": [
    "**Exercise 4.** Here is an example line from the file:\n",
    "\n",
    "    <span class=\"e_teamname\" title=\"Tiffin University at Mohawk CC\">Tiffin University at Mohawk CC</span>\n",
    "\n",
    "Give this string the name `line`,\n",
    "and use a series of `.split()` operations\n",
    "to pull the team name out of the line.\n",
    "Print the team name on a line by itself."
   ]
  },
  {
   "cell_type": "code",
   "execution_count": 35,
   "metadata": {
    "checks": "",
    "exercise_number": 4,
    "expected": "Tiffin University at Mohawk CC\n"
   },
   "outputs": [
    {
     "output_type": "error",
     "ename": "AttributeError",
     "evalue": "'list' object has no attribute 'split'",
     "traceback": [
      "\u001b[1;31m---------------------------------------------------------------------------\u001b[0m",
      "\u001b[1;31mAttributeError\u001b[0m                            Traceback (most recent call last)",
      "\u001b[1;32m<ipython-input-35-0f6d964337fc>\u001b[0m in \u001b[0;36m<module>\u001b[1;34m\u001b[0m\n\u001b[0;32m      2\u001b[0m \u001b[0mline\u001b[0m \u001b[1;33m=\u001b[0m \u001b[1;34m'<span class=\"e_teamname\" title=\"Tiffin University at Mohawk CC\">Tiffin University at Mohawk CC</span>'\u001b[0m\u001b[1;33m\u001b[0m\u001b[1;33m\u001b[0m\u001b[0m\n\u001b[0;32m      3\u001b[0m \u001b[0md\u001b[0m \u001b[1;33m=\u001b[0m \u001b[0mline\u001b[0m\u001b[1;33m.\u001b[0m\u001b[0msplit\u001b[0m\u001b[1;33m(\u001b[0m\u001b[1;34m'<span class=\"e_teamname\" title=\"Tiffin University at Mohawk CC\">Tiffin University at Mohawk CC</span>'\u001b[0m\u001b[1;33m)\u001b[0m\u001b[1;33m\u001b[0m\u001b[1;33m\u001b[0m\u001b[0m\n\u001b[1;32m----> 4\u001b[1;33m \u001b[0mc\u001b[0m \u001b[1;33m=\u001b[0m \u001b[0md\u001b[0m\u001b[1;33m.\u001b[0m\u001b[0msplit\u001b[0m\u001b[1;33m(\u001b[0m\u001b[1;34m'</span'\u001b[0m\u001b[1;33m)\u001b[0m\u001b[1;33m[\u001b[0m\u001b[1;36m0\u001b[0m\u001b[1;33m]\u001b[0m\u001b[1;33m\u001b[0m\u001b[1;33m\u001b[0m\u001b[0m\n\u001b[0m\u001b[0;32m      5\u001b[0m \u001b[0mprint\u001b[0m\u001b[1;33m(\u001b[0m\u001b[0mc\u001b[0m\u001b[1;33m)\u001b[0m\u001b[1;33m\u001b[0m\u001b[1;33m\u001b[0m\u001b[0m\n",
      "\u001b[1;31mAttributeError\u001b[0m: 'list' object has no attribute 'split'"
     ]
    }
   ],
   "source": [
    "# Exercise 4\n",
    "line = '<span class=\"e_teamname\" title=\"Tiffin University at Mohawk CC\">Tiffin University at Mohawk CC</span>'\n",
    "d = line.split('<span class=\"e_teamname\" title=\"Tiffin University at Mohawk CC\">Tiffin University at Mohawk CC</span>')\n",
    "c = d.split('</span')[0]\n",
    "print(c)"
   ]
  },
  {
   "cell_type": "markdown",
   "metadata": {},
   "source": [
    "**Exercise 5.** Finally let’s put all these pieces together.\n",
    "Write a short script that visits every line of the file,\n",
    "and for lines that have the string `e_teamname` somewhere inside,\n",
    "extracts and prints the team.\n",
    "The result should be a list of all the teams mentioned in the file."
   ]
  },
  {
   "cell_type": "code",
   "execution_count": 12,
   "metadata": {
    "checks": "",
    "exercise_number": 5,
    "expected": "Tiffin University at Mohawk CC\nLourdes Fall Invitatonal at Legacy GC\nIrish Hills Intercollegiate at The Grande GC (Jackson, MI)\nBeaver Fall Classic at Bluffton GC\nBeaver Fall Classic at Hidden Creek GC\nOlivet College Invitational #1 at Forest Akers West (East Lansing, MI)\nTrine University at Zollner GC\nKyle Ryman Memorial at Mohawk CC\nKyle Ryman Memorial at Mohawk CC\nLourdes Fall Invitatonal at Sylvania CC\n"
   },
   "outputs": [
    {
     "output_type": "stream",
     "name": "stdout",
     "text": [
      "Tiffin University at Mohawk CC\nLourdes Fall Invitatonal at Legacy GC\nIrish Hills Intercollegiate at The Grande GC (Jackson, MI)\nBeaver Fall Classic at Bluffton GC\nBeaver Fall Classic at Hidden Creek GC\nOlivet College Invitational #1 at Forest Akers West (East Lansing, MI)\nTrine University at Zollner GC\nKyle Ryman Memorial at Mohawk CC\nKyle Ryman Memorial at Mohawk CC\nLourdes Fall Invitatonal at Sylvania CC\n"
     ]
    }
   ],
   "source": [
    "# Exercise 5\n",
    "f = open('Data/golf-excerpt.html')\n",
    "for line in f:\n",
    "    if 'e_teamname' in line:\n",
    "        c = line.split('\"')\n",
    "        print(c[3])\n"
   ]
  }
 ],
 "metadata": {
  "kernelspec": {
   "name": "python3",
   "display_name": "Python 3.8.5 32-bit",
   "metadata": {
    "interpreter": {
     "hash": "55be60cf280263d5195d6518e91ce7ddea4b9f37b2ebfc7b398b0bc66be4b367"
    }
   }
  },
  "language_info": {
   "codemirror_mode": {
    "name": "ipython",
    "version": 3
   },
   "file_extension": ".py",
   "mimetype": "text/x-python",
   "name": "python",
   "nbconvert_exporter": "python",
   "pygments_lexer": "ipython3",
   "version": "3.8.5-final"
  }
 },
 "nbformat": 4,
 "nbformat_minor": 4
}