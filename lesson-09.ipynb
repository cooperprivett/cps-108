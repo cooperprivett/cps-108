{
 "cells": [
  {
   "cell_type": "markdown",
   "metadata": {},
   "source": [
    "# Lesson 9\n",
    "\n",
    "Let’s practice the basic skills necessary for screen scraping!"
   ]
  },
  {
   "cell_type": "code",
   "execution_count": 2,
   "metadata": {},
   "outputs": [
    {
     "output_type": "stream",
     "name": "stdout",
     "text": [
      "\u001b[32m┌─────────────────────┐\n│ Welcome to lesson 9 │\n└─────────────────────┘\u001b[0m"
     ]
    }
   ],
   "source": [
    "from course_engine import start_lesson\n",
    "start_lesson(9)\n"
   ]
  },
  {
   "cell_type": "markdown",
   "metadata": {},
   "source": [
    "**Exercise 1.** In your `Data/` directory is an excerpt\n",
    "from the 2020–2021 Bluffton University golf schedule web page.\n",
    "If you want to see the original page, it lives at:\n",
    "\n",
    "<https://blufftonbeavers.com/sports/mgolf/2020-21/schedule>\n",
    "\n",
    "Here is a sample script that visits every line in the file,\n",
    "removes any extra whitespace at the ends,\n",
    "and prints the “repr” of every line:\n",
    "\n",
    "    f = open('Data/golf-excerpt.html')\n",
    "    for line in f:\n",
    "        line = line.strip()\n",
    "        print(repr(line))\n",
    "\n",
    "Let’s start with something simple\n",
    "before diving into string parsing.\n",
    "By modifying this example,\n",
    "create a short program\n",
    "that prints out the number of lines in `Data/golf-excerpt.html`."
   ]
  },
  {
   "cell_type": "code",
   "execution_count": 32,
   "metadata": {
    "checks": "",
    "exercise_number": 1,
    "expected": "274\n"
   },
   "outputs": [
    {
     "output_type": "execute_result",
     "data": {
      "text/plain": [
       "<IPython.core.display.HTML object>"
      ],
      "text/html": "<pre><span class=\"ansi-red-bg ansi-bold\" style=\"background-color: #800;font-weight: bold\">1\n2\n3\n4\n5\n6\n7\n8\n9\n10\n11\n12\n13\n14\n15\n16\n17\n18\n19\n20\n21\n22\n23\n24\n25\n26\n27\n28\n29\n30\n31\n32\n33\n34\n35\n36\n37\n38\n39\n40\n41\n42\n43\n44\n45\n46\n47\n48\n49\n50\n51\n52\n53\n54\n55\n56\n57\n58\n59\n60\n61\n62\n63\n64\n65\n66\n67\n68\n69\n70\n71\n72\n73\n74\n75\n76\n77\n78\n79\n80\n81\n82\n83\n84\n85\n86\n87\n88\n89\n90\n91\n92\n93\n94\n95\n96\n97\n98\n99\n100\n101\n102\n103\n104\n105\n106\n107\n108\n109\n110\n111\n112\n113\n114\n115\n116\n117\n118\n119\n120\n121\n122\n123\n124\n125\n126\n127\n128\n129\n130\n131\n132\n133\n134\n135\n136\n137\n138\n139\n140\n141\n142\n143\n144\n145\n146\n147\n148\n149\n150\n151\n152\n153\n154\n155\n156\n157\n158\n159\n160\n161\n162\n163\n164\n165\n166\n167\n168\n169\n170\n171\n172\n173\n174\n175\n176\n177\n178\n179\n180\n181\n182\n183\n184\n185\n186\n187\n188\n189\n190\n191\n192\n193\n194\n195\n196\n197\n198\n199\n200\n201\n202\n203\n204\n205\n206\n207\n208\n209\n210\n211\n212\n213\n214\n215\n216\n217\n218\n219\n220\n221\n222\n223\n224\n225\n226\n227\n228\n229\n230\n231\n232\n233\n234\n235\n236\n237\n238\n239\n240\n241\n242\n243\n244\n245\n246\n247\n248\n249\n250\n251\n252\n253\n254\n255\n256\n257\n258\n259\n260\n261\n262\n263\n264\n265\n266\n267\n268\n269\n270\n271\n272\n273\n</span>274\n\n<span class=\"ansi-red-fg\" style=\"color: red\">┌──────────────────────────────────┐\n│ Your output does not quite match │\n│ what the exercise is expecting:  │\n└──────────────────────────────────┘</span>\n274\n\n</pre>"
     },
     "metadata": {},
     "execution_count": 32
    }
   ],
   "source": [
    "# Exercise 1\n",
    "n = 0\n",
    "f = open('Data/golf-excerpt.html')\n",
    "for line in f:\n",
    "     line = line.strip()\n",
    "     n = n +1\n",
    "     print(n)"
   ]
  },
  {
   "cell_type": "markdown",
   "metadata": {},
   "source": [
    "**Exercise 2.** Here is a new operator you might not have seen before:\n",
    "you can use “in” to check\n",
    "whether a little string is contained somewhere inside a big string.\n",
    "\n",
    "    for animal in 'Bison', 'Orca', 'Missouri mule':\n",
    "        if 'so' in animal:\n",
    "            print(animal)\n",
    "\n",
    "This prints out both `Bison` and `Missouri mule`\n",
    "because they both have the adjacent letters `so` inside,\n",
    "but skips and does not print `Orca`.\n",
    "\n",
    "Using this new operator,\n",
    "print out all of the lines in `Data/golf-excerpt.html`\n",
    "that have the string `e_teamname` inside."
   ]
  },
  {
   "cell_type": "code",
   "execution_count": 28,
   "metadata": {
    "checks": "",
    "exercise_number": 2,
    "expected": "<span class=\"e_teamname\" title=\"Tiffin University at Mohawk CC\">Tiffin University at Mohawk CC</span>\n<span class=\"e_teamname\" title=\"Lourdes Fall Invitatonal at Legacy GC\">Lourdes Fall Invitatonal at Legacy GC</span>\n<span class=\"e_teamname\" title=\"Irish Hills Intercollegiate at The Grande GC (Jackson, MI)\">Irish Hills Intercollegiate at The Grande GC (Jackson, MI)</span>\n<span class=\"e_teamname e_home\" title=\"Beaver Fall Classic at Bluffton GC\">Beaver Fall Classic at Bluffton GC</span>\n<span class=\"e_teamname e_home\" title=\"Beaver Fall Classic at Hidden Creek GC\">Beaver Fall Classic at Hidden Creek GC</span>\n<span class=\"e_teamname\" title=\"Olivet College Invitational #1 at Forest Akers West (East Lansing, MI)\">Olivet College Invitational #1 at Forest Akers West (East Lansing, MI)</span>\n<span class=\"e_teamname\" title=\"Trine University at Zollner GC\">Trine University at Zollner GC</span>\n<span class=\"e_teamname\" title=\"Kyle Ryman Memorial at Mohawk CC\">Kyle Ryman Memorial at Mohawk CC</span>\n<span class=\"e_teamname\" title=\"Kyle Ryman Memorial at Mohawk CC\">Kyle Ryman Memorial at Mohawk CC</span>\n<span class=\"e_teamname\" title=\"Lourdes Fall Invitatonal at Sylvania CC\">Lourdes Fall Invitatonal at Sylvania CC</span>\n"
   },
   "outputs": [
    {
     "output_type": "execute_result",
     "data": {
      "text/plain": [
       "<IPython.core.display.HTML object>"
      ],
      "text/html": "<pre>&lt;span class=&#34;e_teamname&#34; title=&#34;Tiffin University at Mohawk CC&#34;&gt;Tiffin University at Mohawk CC&lt;/span&gt;<span class=\"ansi-red-bg ansi-bold\" style=\"background-color: #800;font-weight: bold\">\n</span>\n&lt;span class=&#34;e_teamname&#34; title=&#34;Lourdes Fall Invitatonal at Legacy GC&#34;&gt;Lourdes Fall Invitatonal at Legacy GC&lt;/span&gt;<span class=\"ansi-red-bg ansi-bold\" style=\"background-color: #800;font-weight: bold\">\n</span>\n&lt;span class=&#34;e_teamname&#34; title=&#34;Irish Hills Intercollegiate at The Grande GC (Jackson, MI)&#34;&gt;Irish Hills Intercollegiate at The Grande GC (Jackson, MI)&lt;/span&gt;\n<span class=\"ansi-red-bg ansi-bold\" style=\"background-color: #800;font-weight: bold\">\n</span>&lt;span class=&#34;e_teamname e_home&#34; title=&#34;Beaver Fall Classic at Bluffton GC&#34;&gt;Beaver Fall Classic at Bluffton GC&lt;/span&gt;<span class=\"ansi-red-bg ansi-bold\" style=\"background-color: #800;font-weight: bold\">\n</span>\n&lt;span class=&#34;e_teamname e_home&#34; title=&#34;Beaver Fall Classic at Hidden Creek GC&#34;&gt;Beaver Fall Classic at Hidden Creek GC&lt;/span&gt;<span class=\"ansi-red-bg ansi-bold\" style=\"background-color: #800;font-weight: bold\">\n</span>\n&lt;span class=&#34;e_teamname&#34; title=&#34;Olivet College Invitational #1 at Forest Akers West (East Lansing, MI)&#34;&gt;Olivet College Invitational #1 at Forest Akers West (East Lansing, MI)&lt;/span&gt;\n<span class=\"ansi-red-bg ansi-bold\" style=\"background-color: #800;font-weight: bold\">\n</span>&lt;span class=&#34;e_teamname&#34; title=&#34;Trine University at Zollner GC&#34;&gt;Trine University at Zollner GC&lt;/span&gt;<span class=\"ansi-red-bg ansi-bold\" style=\"background-color: #800;font-weight: bold\">\n</span>\n&lt;span class=&#34;e_teamname&#34; title=&#34;Kyle Ryman Memorial at Mohawk CC&#34;&gt;Kyle Ryman Memorial at Mohawk CC&lt;/span&gt;\n<span class=\"ansi-red-bg ansi-bold\" style=\"background-color: #800;font-weight: bold\">\n</span>&lt;span class=&#34;e_teamname&#34; title=&#34;Kyle Ryman Memorial at Mohawk CC&#34;&gt;Kyle Ryman Memorial at Mohawk CC&lt;/span&gt;<span class=\"ansi-red-bg ansi-bold\" style=\"background-color: #800;font-weight: bold\">\n</span>\n&lt;span class=&#34;e_teamname&#34; title=&#34;Lourdes Fall Invitatonal at Sylvania CC&#34;&gt;Lourdes Fall Invitatonal at Sylvania CC&lt;/span&gt;\n<span class=\"ansi-red-bg ansi-bold\" style=\"background-color: #800;font-weight: bold\">\n</span>\n<span class=\"ansi-red-fg\" style=\"color: red\">┌──────────────────────────────────┐\n│ Your output does not quite match │\n│ what the exercise is expecting:  │\n└──────────────────────────────────┘</span>\n&lt;span class=&#34;e_teamname&#34; title=&#34;Tiffin University at Mohawk CC&#34;&gt;Tiffin University at Mohawk CC&lt;/span&gt;\n&lt;span class=&#34;e_teamname&#34; title=&#34;Lourdes Fall Invitatonal at Legacy GC&#34;&gt;Lourdes Fall Invitatonal at Legacy GC&lt;/span&gt;\n&lt;span class=&#34;e_teamname&#34; title=&#34;Irish Hills Intercollegiate at The Grande GC (Jackson, MI)&#34;&gt;Irish Hills Intercollegiate at The Grande GC (Jackson, MI)&lt;/span&gt;\n&lt;span class=&#34;e_teamname e_home&#34; title=&#34;Beaver Fall Classic at Bluffton GC&#34;&gt;Beaver Fall Classic at Bluffton GC&lt;/span&gt;\n&lt;span class=&#34;e_teamname e_home&#34; title=&#34;Beaver Fall Classic at Hidden Creek GC&#34;&gt;Beaver Fall Classic at Hidden Creek GC&lt;/span&gt;\n&lt;span class=&#34;e_teamname&#34; title=&#34;Olivet College Invitational #1 at Forest Akers West (East Lansing, MI)&#34;&gt;Olivet College Invitational #1 at Forest Akers West (East Lansing, MI)&lt;/span&gt;\n&lt;span class=&#34;e_teamname&#34; title=&#34;Trine University at Zollner GC&#34;&gt;Trine University at Zollner GC&lt;/span&gt;\n&lt;span class=&#34;e_teamname&#34; title=&#34;Kyle Ryman Memorial at Mohawk CC&#34;&gt;Kyle Ryman Memorial at Mohawk CC&lt;/span&gt;\n&lt;span class=&#34;e_teamname&#34; title=&#34;Kyle Ryman Memorial at Mohawk CC&#34;&gt;Kyle Ryman Memorial at Mohawk CC&lt;/span&gt;\n&lt;span class=&#34;e_teamname&#34; title=&#34;Lourdes Fall Invitatonal at Sylvania CC&#34;&gt;Lourdes Fall Invitatonal at Sylvania CC&lt;/span&gt;\n\n</pre>"
     },
     "metadata": {},
     "execution_count": 28
    }
   ],
   "source": [
    "# Exercise 2\n",
    "f = open('Data/golf-excerpt.html')\n",
    "for line in f:\n",
    "    if 'e_teamname' in line:\n",
    "        print(line)\n"
   ]
  },
  {
   "cell_type": "markdown",
   "metadata": {},
   "source": [
    "**Exercise 3.** Print out a count of how many lines in `Data/golf-excerpt.html`\n",
    "have the string `e_teamname` inside."
   ]
  },
  {
   "cell_type": "code",
   "execution_count": 26,
   "metadata": {
    "checks": "",
    "exercise_number": 3,
    "expected": "10\n"
   },
   "outputs": [
    {
     "output_type": "execute_result",
     "data": {
      "text/plain": [
       "<IPython.core.display.HTML object>"
      ],
      "text/html": "<pre><span class=\"ansi-red-bg ansi-bold\" style=\"background-color: #800;font-weight: bold\">1\n2\n3\n4\n5\n6\n7\n8\n9\n</span>10\n\n<span class=\"ansi-red-fg\" style=\"color: red\">┌──────────────────────────────────┐\n│ Your output does not quite match │\n│ what the exercise is expecting:  │\n└──────────────────────────────────┘</span>\n10\n\n</pre>"
     },
     "metadata": {},
     "execution_count": 26
    }
   ],
   "source": [
    "# Exercise 3\n",
    "n = 0\n",
    "f = open('Data/golf-excerpt.html')\n",
    "for line in f:\n",
    "    if 'e_teamname' in line:\n",
    "        n = n+1\n",
    "        print(n)\n"
   ]
  },
  {
   "cell_type": "markdown",
   "metadata": {},
   "source": [
    "**Exercise 4.** Here is an example line from the file:\n",
    "\n",
    "    <span class=\"e_teamname\" title=\"Tiffin University at Mohawk CC\">Tiffin University at Mohawk CC</span>\n",
    "\n",
    "Give this string the name `line`,\n",
    "and use a series of `.split()` operations\n",
    "to pull the team name out of the line.\n",
    "Print the team name on a line by itself."
   ]
  },
  {
   "cell_type": "code",
   "execution_count": null,
   "metadata": {
    "checks": "",
    "exercise_number": 4,
    "expected": "Tiffin University at Mohawk CC\n"
   },
   "outputs": [],
   "source": [
    "# Exercise 4\n",
    "\n",
    "line = '<span class=\"e_teamname\" title=\"Tiffin University at Mohawk CC\">Tiffin University at Mohawk CC</span>'"
   ]
  },
  {
   "cell_type": "markdown",
   "metadata": {},
   "source": [
    "**Exercise 5.** Finally let’s put all these pieces together.\n",
    "Write a short script that visits every line of the file,\n",
    "and for lines that have the string `e_teamname` somewhere inside,\n",
    "extracts and prints the team.\n",
    "The result should be a list of all the teams mentioned in the file."
   ]
  },
  {
   "cell_type": "code",
   "execution_count": null,
   "metadata": {
    "checks": "",
    "exercise_number": 5,
    "expected": "Tiffin University at Mohawk CC\nLourdes Fall Invitatonal at Legacy GC\nIrish Hills Intercollegiate at The Grande GC (Jackson, MI)\nBeaver Fall Classic at Bluffton GC\nBeaver Fall Classic at Hidden Creek GC\nOlivet College Invitational #1 at Forest Akers West (East Lansing, MI)\nTrine University at Zollner GC\nKyle Ryman Memorial at Mohawk CC\nKyle Ryman Memorial at Mohawk CC\nLourdes Fall Invitatonal at Sylvania CC\n"
   },
   "outputs": [],
   "source": [
    "# Exercise 5\n",
    "\n"
   ]
  }
 ],
 "metadata": {
  "kernelspec": {
   "name": "python3",
   "display_name": "Python 3.8.5 32-bit",
   "metadata": {
    "interpreter": {
     "hash": "55be60cf280263d5195d6518e91ce7ddea4b9f37b2ebfc7b398b0bc66be4b367"
    }
   }
  },
  "language_info": {
   "codemirror_mode": {
    "name": "ipython",
    "version": 3
   },
   "file_extension": ".py",
   "mimetype": "text/x-python",
   "name": "python",
   "nbconvert_exporter": "python",
   "pygments_lexer": "ipython3",
   "version": "3.8.5-final"
  }
 },
 "nbformat": 4,
 "nbformat_minor": 4
}